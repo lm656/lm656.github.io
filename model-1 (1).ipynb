{
 "cells": [
  {
   "cell_type": "code",
   "execution_count": 89,
   "metadata": {},
   "outputs": [],
   "source": [
    "import numpy as np\n",
    "import seaborn as sns\n",
    "import pandas as pd\n",
    "import sys\n",
    "import math\n",
    "import matplotlib.pyplot as plt\n",
    "import random\n",
    "np.set_printoptions(threshold=sys.maxsize)"
   ]
  },
  {
   "cell_type": "markdown",
   "metadata": {},
   "source": [
    "### Model 1"
   ]
  },
  {
   "cell_type": "code",
   "execution_count": 90,
   "metadata": {},
   "outputs": [],
   "source": [
    "north_south_block = 264 #feet of north-south block\n",
    "east_west_block = 750 # feet of east-west block\n",
    "streets_A = 145 #number of streets in the Grid Parition A for Model 1 (1st - 145th)\n",
    "streets_B = 83 #number of streets in the Grid Parition B for Model 1 (146th - 228th)\n",
    "total_streets = streets_A + streets_B\n",
    "total_avenues = 11\n",
    "total_speed = 3 * 26400 #speed of drone in feet/hr (5 mph or 10 blocks an hr)\n",
    "time_step = 0.6 #number of minutes the simulation runs everytime (drone moves 1 block per simulation) \n",
    "#time_step = (north_south_block)/(total_speed/60) --> formula for it, should we wish to change speed"
   ]
  },
  {
   "cell_type": "code",
   "execution_count": 91,
   "metadata": {},
   "outputs": [],
   "source": [
    "#class representing a grid block\n",
    "class gridBlock():\n",
    "    def __init__(self, timestep = time_step, less=15):\n",
    "        self.used = True \n",
    "        self.last_visited = -1\n",
    "        self.num_visits = 0\n",
    "        self.less15 = 0\n",
    "        self.value = less\n",
    "        self.timestep = timestep\n",
    "        \n",
    "    def last_visit(self, time):\n",
    "        return self.last_visited\n",
    "    \n",
    "    def visit(self, time):\n",
    "        if(time - self.last_visited > self.less/self.timestep):\n",
    "            self.less15 = self.less15 + 1 \n",
    "        self.last_visited = time\n",
    "        self.num_visits = self.num_visits + 1\n",
    "        \n",
    "        "
   ]
  },
  {
   "cell_type": "code",
   "execution_count": 92,
   "metadata": {},
   "outputs": [],
   "source": [
    "class Drone():\n",
    "    def __init__(self, column_start, column_dest, first_row,row_start, row_end, orientation, speed = total_speed, timesteps = time_step, timeout=1):\n",
    "        self.speed = speed\n",
    "        self.curr_col = column_start\n",
    "        if first_row > row_end: \n",
    "            self.curr_row = row_end\n",
    "        else:\n",
    "            self.curr_row = first_row\n",
    "        self.col_range = (column_start, column_dest) #total range of columns (only two avenues)\n",
    "        self.row_range = [row_start, row_end] # total range of rows\n",
    "        self.timesteps = timesteps\n",
    "        self.charge = 300/timesteps #time left in the drone in timesteps (using defaults is 500)\n",
    "        self.col_change = -1 #NOTE: it takes 3 time steps to move from east to west + 1 recharge penalty\n",
    "        self.orientation = orientation #-1 for south-north, 1 for north-south\n",
    "        self.timeout = timeout #2 hours to charge\n",
    "        \n",
    "    #moves drone and returns coordinates and whether it is monitoring\n",
    "    def move(self, manhattan = []):\n",
    "        #checking if drone is timed out\n",
    "        if(self.timeout > 0):\n",
    "            if self.charge > 0 :\n",
    "                #reached end of the block, time to move\n",
    "                if((self.curr_row == self.row_range[-1] and self.orientation == 1) or (self.curr_row == self.row_range[0] and self.orientation == -1)):\n",
    "                   #row does not change\n",
    "                    self.orientation = self.orientation * -1 #becomes opposite direction of change\n",
    "\n",
    "                    index = 0 if self.col_range.index(self.curr_col) == 1 else 0 #changes to the next column\n",
    "                    self.curr_col = self.col_range[index]\n",
    "\n",
    "                    self.col_change = 3 #takes 3 steps to move a column\n",
    "                    self.charge = self.charge - 4 #3 time steps before drone is back + 1 time step penalty\n",
    "                else:\n",
    "                    #still in the process of moving the columns (it takes longer to move from avenue to avenue)\n",
    "                    if(self.col_change > 0):\n",
    "                        self.col_change = self.col_change - 1\n",
    "                    #normal move    \n",
    "                    else:\n",
    "                        self.curr_row = self.curr_row + self.orientation\n",
    "                        self.charge = self.charge - 1\n",
    "                return True\n",
    "            else:\n",
    "                self.timeout = -120/self.timesteps\n",
    "                self.charge = 300/self.timesteps\n",
    "            return False\n",
    "#             return (self.curr_row, self.curr_col, True)\n",
    "        else:\n",
    "            self.timeout = self.timeout + 1            \n",
    "            return False\n",
    "#           return (self.curr_row, self.curr_col, False)\n",
    "        \n",
    "    def coord(self):\n",
    "        return (self.curr_row, self.curr_col)"
   ]
  },
  {
   "cell_type": "code",
   "execution_count": 107,
   "metadata": {},
   "outputs": [],
   "source": [
    "#creating grid blocks for manhattan\n",
    "manhattan = np.empty((total_streets,11), dtype=object)  \n",
    "manhattan2 = np.empty((total_streets,11), dtype=object)  \n",
    "manhattan_rand = np.empty((total_streets,11), dtype=object)  \n",
    "manhattan_rand2 = np.empty((total_streets,11), dtype=object)  \n",
    "for i in range(228):\n",
    "    for j in range(11):\n",
    "        manhattan[i][j] = gridBlock(time_step)\n",
    "        manhattan2[i][j] = gridBlock(time_step)\n",
    "        manhattan_rand[i][j] = gridBlock(time_step)\n",
    "        manhattan_rand2[i][j] = gridBlock(time_step)\n",
    "        \n",
    "#setting the non-used parts of grid to False\n",
    "for i in range(146, 228):\n",
    "    for j in range(3, 11):\n",
    "        manhattan[i][j].used = False\n",
    "        manhattan2[i][j].used = False\n",
    "        manhattan_rand[i][j].used = False\n",
    "        manhattan_rand2[i][j].used = False"
   ]
  },
  {
   "cell_type": "code",
   "execution_count": 94,
   "metadata": {},
   "outputs": [],
   "source": [
    "drone_distance = total_speed/6\n",
    "drone_distance_blocks = math.ceil(drone_distance/north_south_block) #number of north-south blocks between each drone\n",
    "drone_distance_blocks = 1"
   ]
  },
  {
   "cell_type": "code",
   "execution_count": 95,
   "metadata": {},
   "outputs": [],
   "source": [
    "drone_list = []\n",
    "#makes the drones\n",
    "for i in range(11):\n",
    "        if(i % 2 == 0): #drone move south-north\n",
    "            if(i < 8):\n",
    "                for j in range(0, math.floor(streets_A/drone_distance_blocks)):\n",
    "                    drone_list.append(Drone(i, i + 1, drone_distance_blocks * j + random.randrange(0, 8), 0, streets_A-1, 1, timeout=random.randrange(-120/time_step, 30)))\n",
    "        #drone moves north-south\n",
    "        else:\n",
    "            if(i < 8):\n",
    "                for j in range(0, math.floor(streets_A/drone_distance_blocks)):\n",
    "                    drone_list.append(Drone(i, i - 1, drone_distance_blocks * j + random.randrange(0, 8), 0, streets_A-1, -1, timeout=random.randrange(-120/time_step, 30)))\n",
    "        #triple circulation for the longer part of the island (block B)            \n",
    "        for j in range(0, math.floor(total_streets/drone_distance_blocks)):\n",
    "            if(i == 8):\n",
    "                drone_list.append(Drone(i, i + 1, drone_distance_blocks * j + random.randrange(0, 8), 0, total_streets-1, 1, timeout=random.randrange(-120/time_step, 30)))\n",
    "            if(i == 9):    \n",
    "                drone_list.append(Drone(i, i - 1, drone_distance_blocks * j + random.randrange(0, 8), 0, total_streets-1, -1, timeout=random.randrange(-120/time_step, 30)))\n",
    "            if(i == 10):    \n",
    "                drone_list.append(Drone(i, i + 1, drone_distance_blocks * j + random.randrange(0, 8), 0, total_streets-1, 1, timeout=random.randrange(-120/time_step, 30)))         "
   ]
  },
  {
   "cell_type": "code",
   "execution_count": 96,
   "metadata": {},
   "outputs": [],
   "source": [
    "simulations = 10\n",
    "prt1 = np.zeros(manhattan.shape)\n",
    "prt2 = np.zeros(manhattan.shape)\n",
    "for i in range(simulations):\n",
    "    simulation_days = 5\n",
    "    simulation_timesteps = math.ceil(simulation_days*24*60 / time_step)\n",
    "    for t in range(simulation_timesteps):\n",
    "        for drone in drone_list:\n",
    "            val = drone.move(manhattan)\n",
    "            if(val):\n",
    "                row, col = drone.coord()\n",
    "                manhattan[row][col].visit(t)\n",
    "    for i in range(228):\n",
    "        for j in range(11):\n",
    "            prt1[i][j] = manhattan[i][j].num_visits + prt1[i][j]\n",
    "            prt2[i][j] = manhattan[i][j].less15 + prt2[i][j]\n",
    "prt1 = (1/simulations) * prt1        \n",
    "prt2 = (1/simulations) * prt2"
   ]
  },
  {
   "cell_type": "code",
   "execution_count": 97,
   "metadata": {},
   "outputs": [
    {
     "data": {
      "image/png": "[encoded data removed]",
      "text/plain": [
       "<Figure size 144x864 with 2 Axes>"
      ]
     },
     "metadata": {
      "needs_background": "light"
     },
     "output_type": "display_data"
    }
   ],
   "source": [
    "# plt.figure(figsize=(10, 60)) high res image\n",
    "plt.figure(figsize=(2, 12))\n",
    "plt.title(\"Average Number of Drone Visits over Simulation A\")\n",
    "heat_map = sns.heatmap(prt1, xticklabels=False, yticklabels=False, cmap=\"YlGnBu\")\n",
    "plt.show()"
   ]
  },
  {
   "cell_type": "code",
   "execution_count": 98,
   "metadata": {},
   "outputs": [
    {
     "data": {
      "image/png": "[encoded data removed]",
      "text/plain": [
       "<Figure size 144x864 with 2 Axes>"
      ]
     },
     "metadata": {
      "needs_background": "light"
     },
     "output_type": "display_data"
    }
   ],
   "source": [
    "# plt.figure(figsize=(10, 60)) high res image\n",
    "plt.figure(figsize=(2, 12))\n",
    "plt.title(\"Number of Time Surveillance Time Exceeded 15 minutes (Simulation A)\")\n",
    "heat_map = sns.heatmap(prt2, xticklabels=False, yticklabels=False, cmap=\"YlGnBu\")\n",
    "plt.show()"
   ]
  },
  {
   "cell_type": "markdown",
   "metadata": {},
   "source": [
    "#### Random Drones not working"
   ]
  },
  {
   "cell_type": "code",
   "execution_count": 99,
   "metadata": {},
   "outputs": [],
   "source": [
    "drone_list_rand = []\n",
    "prob = 0.15\n",
    "#makes the drones\n",
    "for i in range(11):\n",
    "        if(i % 2 == 0): #drone move south-north\n",
    "            if(i < 8):\n",
    "                for j in range(0, math.floor(streets_A/drone_distance_blocks)):\n",
    "                    if random.uniform(0, 1) > prob:\n",
    "                        drone_list.append(Drone(i, i + 1, drone_distance_blocks * j + random.randrange(0, 8), 0, streets_A-1, 1, timeout=random.randrange(-120/time_step, 30)))\n",
    "        #drone moves north-south\n",
    "        else:\n",
    "            if(i < 8):\n",
    "                for j in range(0, math.floor(streets_A/drone_distance_blocks)):\n",
    "                    if random.uniform(0, 1) < prob:\n",
    "                        drone_list.append(Drone(i, i - 1, drone_distance_blocks * j + random.randrange(0, 8), 0, streets_A-1, -1))\n",
    "        #triple circulation for the longer part of the island (block B)            \n",
    "        for j in range(0, math.floor(total_streets/drone_distance_blocks)):\n",
    "            if(i == 8):\n",
    "                if random.uniform(0, 1) < prob:\n",
    "                    drone_list.append(Drone(i, i + 1, drone_distance_blocks * j + random.randrange(0, 8), 0, total_streets-1, 1))\n",
    "            if(i == 9):\n",
    "                if random.uniform(0, 1) < prob:\n",
    "                    drone_list.append(Drone(i, i - 1, drone_distance_blocks * j + random.randrange(0, 8), 0, total_streets-1, -1))\n",
    "            if(i == 10):    \n",
    "                if random.uniform(0, 1) < prob:\n",
    "                    drone_list.append(Drone(i, i + 1, drone_distance_blocks * j + random.randrange(0, 8), 0, total_streets-1, 1))         "
   ]
  },
  {
   "cell_type": "code",
   "execution_count": 104,
   "metadata": {},
   "outputs": [],
   "source": [
    "simulations = 10\n",
    "prt3 = np.zeros(manhattan_rand.shape)\n",
    "prt4 = np.zeros(manhattan_rand.shape)\n",
    "for i in range(simulations):\n",
    "    simulation_days = 5\n",
    "    simulation_timesteps = math.ceil(simulation_days*24*60 / time_step)\n",
    "    for t in range(simulation_timesteps):\n",
    "        for drone in drone_list:\n",
    "            val = drone.move(manhattan_rand)\n",
    "            if(val):\n",
    "                row, col = drone.coord()\n",
    "                manhattan_rand[row][col].visit(t)\n",
    "    for i in range(228):\n",
    "        for j in range(11):\n",
    "            prt3[i][j] = manhattan_rand[i][j].num_visits + prt4[i][j]\n",
    "            prt4[i][j] = manhattan_rand[i][j].less15 + prt3[i][j]\n",
    "prt3 = (1/simulations) * prt3\n",
    "prt4 = (1/simulations) * prt4"
   ]
  },
  {
   "cell_type": "code",
   "execution_count": 105,
   "metadata": {},
   "outputs": [
    {
     "data": {
      "image/png": "[encoded data removed]",
      "text/plain": [
       "<Figure size 144x864 with 2 Axes>"
      ]
     },
     "metadata": {
      "needs_background": "light"
     },
     "output_type": "display_data"
    }
   ],
   "source": [
    "# plt.figure(figsize=(10, 60)) high res image\n",
    "plt.figure(figsize=(2, 12))\n",
    "plt.title(\"Average Number of Drone Visits over Simulation B\")\n",
    "heat_map = sns.heatmap(prt3, xticklabels=False, yticklabels=False, cmap=\"YlGnBu\")\n",
    "plt.show()"
   ]
  },
  {
   "cell_type": "code",
   "execution_count": 106,
   "metadata": {},
   "outputs": [
    {
     "data": {
      "image/png": "[encoded data removed]",
      "text/plain": [
       "<Figure size 144x864 with 2 Axes>"
      ]
     },
     "metadata": {
      "needs_background": "light"
     },
     "output_type": "display_data"
    }
   ],
   "source": [
    "# plt.figure(figsize=(10, 60)) high res image\n",
    "plt.figure(figsize=(2, 12))\n",
    "plt.title(\"Number of Time Surveillance Time Exceeded 15 minutes (Simulation B)\")\n",
    "heat_map = sns.heatmap(prt4, xticklabels=False, yticklabels=False, cmap=\"YlGnBu\")\n",
    "plt.show()"
   ]
  },
  {
   "cell_type": "markdown",
   "metadata": {},
   "source": [
    "### Model 2"
   ]
  },
  {
   "cell_type": "code",
   "execution_count": null,
   "metadata": {},
   "outputs": [],
   "source": [
    "# each of this represents a block with boundary from bottom right corner to top left, along with monitoring frequency\n",
    "\n",
    "block1= (84, 1, 128, 4, 5)\n",
    "block2= (56, 1, 84, 4, 7)\n",
    "block3= (44, 1, 56, 4, 5)\n",
    "block4= (23, 1, 44, 4, 7)\n",
    "block5= (95, 4, 128, 5, 5)\n",
    "block6= (56, 4, 95, 5, 5)\n",
    "block7= (109, 5, 128, 8, 9) #nn\n",
    "block8= (59, 5, 109, 8, 20)#central park\n",
    "block9= (30, 4, 56, 8, 17)\n",
    "block10= (23, 4, 30, 11, 13)\n",
    "block12= (95, 8, 128, 11, 11)\n",
    "block13= (72, 8, 95, 11, 7)\n",
    "block14= (53, 8, 72, 11, 11)\n",
    "block15= (44, 8, 53, 11, 7)\n",
    "block15= (30, 8, 44, 11, 9)\n",
    "\n",
    "\n",
    "block_list = [\n",
    "    block1,\n",
    "    block2,\n",
    "    block3,\n",
    "    block4,\n",
    "    block5,\n",
    "    block6,\n",
    "    block7,\n",
    "    block8,\n",
    "    block9,\n",
    "    block10,\n",
    "    block11,\n",
    "    block12,\n",
    "    block13,\n",
    "    block14,\n",
    "    block15,\n",
    "    \n",
    "]\n",
    "\n"
   ]
  },
  {
   "cell_type": "code",
   "execution_count": null,
   "metadata": {},
   "outputs": [],
   "source": [
    "drone_list2 = []\n"
   ]
  },
  {
   "cell_type": "code",
   "execution_count": null,
   "metadata": {},
   "outputs": [],
   "source": [
    "drone_list = []\n",
    "#makes the drones\n",
    "for i in range(11):\n",
    "        if(i % 2 == 0): #drone move south-north\n",
    "            if(i < 8):\n",
    "                for j in range(0, math.floor(streets_A/drone_distance_blocks)):\n",
    "                    drone_list.append(Drone(i, i + 1, drone_distance_blocks * j + random.randrange(0, 8), 0, streets_A-1, 1, timeout=random.randrange(-120/time_step, 30)))\n",
    "        #drone moves north-south\n",
    "        else:\n",
    "            if(i < 8):\n",
    "                for j in range(0, math.floor(streets_A/drone_distance_blocks)):\n",
    "                    drone_list.append(Drone(i, i - 1, drone_distance_blocks * j + random.randrange(0, 8), 0, streets_A-1, -1, timeout=random.randrange(-120/time_step, 30)))\n",
    "        #triple circulation for the longer part of the island (block B)            \n",
    "        for j in range(0, math.floor(total_streets/drone_distance_blocks)):\n",
    "            if(i == 8):\n",
    "                drone_list.append(Drone(i, i + 1, drone_distance_blocks * j + random.randrange(0, 8), 0, total_streets-1, 1, timeout=random.randrange(-120/time_step, 30)))\n",
    "            if(i == 9):    \n",
    "                drone_list.append(Drone(i, i - 1, drone_distance_blocks * j + random.randrange(0, 8), 0, total_streets-1, -1, timeout=random.randrange(-120/time_step, 30)))\n",
    "            if(i == 10):    \n",
    "                drone_list.append(Drone(i, i + 1, drone_distance_blocks * j + random.randrange(0, 8), 0, total_streets-1, 1, timeout=random.randrange(-120/time_step, 30)))         "
   ]
  },
  {
   "cell_type": "code",
   "execution_count": null,
   "metadata": {},
   "outputs": [],
   "source": [
    "drone_distance = total_speed/6\n",
    "drone_distance_blocks = math.ceil(drone_distance/north_south_block) #number of north-south blocks between each drone\n",
    "drone_distance_blocks = 1        "
   ]
  }
 ],
 "metadata": {
  "kernelspec": {
   "display_name": "Python 3",
   "language": "python",
   "name": "python3"
  },
  "language_info": {
   "codemirror_mode": {
    "name": "ipython",
    "version": 3
   },
   "file_extension": ".py",
   "mimetype": "text/x-python",
   "name": "python",
   "nbconvert_exporter": "python",
   "pygments_lexer": "ipython3",
   "version": "3.7.0"
  }
 },
 "nbformat": 4,
 "nbformat_minor": 2
}
